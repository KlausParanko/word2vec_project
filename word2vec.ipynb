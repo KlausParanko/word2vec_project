{
 "cells": [
  {
   "cell_type": "code",
   "execution_count": null,
   "metadata": {
    "collapsed": true
   },
   "outputs": [],
   "source": [
    "import gensim\n",
    "import gensim.downloader as api\n",
    "from gensim.test.utils import datapath\n",
    "from gensim import utils\n",
    "import gensim.models"
   ]
  },
  {
   "cell_type": "markdown",
   "source": [
    "# 1. Try existing word2vec embeddings\n",
    "## Analyze: are the nearest neighbors semantically meaningful? How? Why not?"
   ],
   "metadata": {
    "collapsed": false
   }
  },
  {
   "cell_type": "code",
   "execution_count": null,
   "outputs": [],
   "source": [
    "wv = api.load('word1vec-google-news-300')\n",
    "pairs = [(\"language\", \"dialect\"),\n",
    "         (\"language\", \"jargon\"),\n",
    "         (\"language\", \"vernacular\"),\n",
    "         (\"language\", \"Finnish\"),\n",
    "         (\"language\", \"English\"),\n",
    "         (\"language\", \"airplane\"),\n",
    "         (\"language\", \"clock\")]\n",
    "\n",
    "for w1, w2 in pairs:\n",
    "    print(f\"{w1}, {w2} {wv.similarity(w1,w2)}\")\n",
    "\n",
    "print(wv.most_similar(positive=[\"language\"], topn=5))"
   ],
   "metadata": {
    "collapsed": false,
    "pycharm": {
     "name": "#%%\n"
    }
   }
  },
  {
   "cell_type": "markdown",
   "source": [
    "# 2. Build your own model: English, Finnish, or any other language you are fluent with\n",
    "# 3. Experiment with parameters: window size, CBOW vs. skipgram, downsampling\n"
   ],
   "metadata": {
    "collapsed": false
   }
  },
  {
   "cell_type": "code",
   "execution_count": null,
   "outputs": [],
   "source": [
    "corpus = api.load(\"text8\")"
   ],
   "metadata": {
    "collapsed": false,
    "pycharm": {
     "name": "#%%\n"
    }
   }
  },
  {
   "cell_type": "code",
   "execution_count": null,
   "outputs": [],
   "source": [
    "load_models = True  # load if true, train and save if false\n",
    "\n",
    "if not load_models:     # train models and save for later use\n",
    "    model1 = gensim.models.Word2Vec(corpus)\n",
    "    model2 = gensim.models.Word2Vec(corpus, sg=1)\n",
    "    model3 = gensim.models.Word2Vec(corpus, window=10)\n",
    "    model4 = gensim.models.Word2Vec(corpus, sample=0)\n",
    "    model5 = gensim.models.Word2Vec(corpus, sample=0)\n",
    "    model6 = gensim.models.Word2Vec(corpus, sample=0.00001)\n",
    "\n",
    "    models = [model1,model2,model3,model4,model5,model6]\n",
    "\n",
    "    for i,m in enumerate(models):\n",
    "        m.save(f\"model{str(i)}.model\")\n",
    "\n",
    "if load_models: # load models\n",
    "    models = []\n",
    "    for i in range(6):\n",
    "        models.append(gensim.models.Word2Vec.load(f\"model{str(i)}.model\"))"
   ],
   "metadata": {
    "collapsed": false,
    "pycharm": {
     "name": "#%% train models to memory or load from disk\n"
    }
   }
  },
  {
   "cell_type": "code",
   "execution_count": null,
   "outputs": [],
   "source": [
    "def get_most_similar(model):\n",
    "    print(model.most_similar(positive=[\"tree\"], topn=5))\n",
    "\n",
    "for m in models:\n",
    "    get_most_similar(m)\n"
   ],
   "metadata": {
    "collapsed": false,
    "pycharm": {
     "name": "#%%\n"
    }
   }
  },
  {
   "cell_type": "code",
   "execution_count": null,
   "outputs": [],
   "source": [
    "class CorpusIterator(object):\n",
    "    \"\"\"iterates over corpus and yields sentences in the form of lists of str\"\"\"\n",
    "\n",
    "    def __iter__(self):\n",
    "        path = datapath('lee_background.cor')\n",
    "        for line in open(path):\n",
    "            # assume there's one document per line, tokens separated by whitespace\n",
    "            yield utils.simple_preprocess(line)\n",
    "\n",
    "# add preprocessing in iterator if you want\n",
    "\n",
    "#sentences = CorpusIterator()\n",
    "\n",
    "\n",
    "\n",
    "\n"
   ],
   "metadata": {
    "collapsed": false,
    "pycharm": {
     "name": "#%% if we use our own corpus\n"
    }
   }
  }
 ],
 "metadata": {
  "kernelspec": {
   "display_name": "Python 3",
   "language": "python",
   "name": "python3"
  },
  "language_info": {
   "codemirror_mode": {
    "name": "ipython",
    "version": 2
   },
   "file_extension": ".py",
   "mimetype": "text/x-python",
   "name": "python",
   "nbconvert_exporter": "python",
   "pygments_lexer": "ipython2",
   "version": "2.7.6"
  },
  "pycharm": {
   "stem_cell": {
    "cell_type": "raw",
    "source": [],
    "metadata": {
     "collapsed": false
    }
   }
  }
 },
 "nbformat": 4,
 "nbformat_minor": 0
}